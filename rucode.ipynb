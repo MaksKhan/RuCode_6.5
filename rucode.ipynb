{
  "cells": [
    {
      "cell_type": "code",
      "execution_count": null,
      "metadata": {
        "id": "dTHygPSycEmu"
      },
      "outputs": [],
      "source": [
        "!pip install catboost -q\n",
        "!pip install iterative-stratification -q\n",
        "!pip install transformers==4.28.0 -q"
      ]
    },
    {
      "cell_type": "code",
      "execution_count": null,
      "metadata": {
        "id": "TQgjOAkXcLrX"
      },
      "outputs": [],
      "source": [
        "import pandas as pd\n",
        "import numpy as np\n",
        "\n",
        "from catboost import CatBoostClassifier\n",
        "from catboost import Pool\n",
        "\n",
        "from transformers import AutoModel, AutoTokenizer, AutoModelForSequenceClassification\n",
        "from transformers import pipeline\n",
        "from transformers import Trainer, TrainingArguments\n",
        "\n",
        "from sklearn.model_selection import KFold\n",
        "\n",
        "from sklearn.model_selection import train_test_split\n",
        "from sklearn.metrics import f1_score\n",
        "\n",
        "import os \n",
        "import random\n",
        "import pickle\n",
        "import seaborn as sns\n",
        "\n",
        "import torch\n",
        "import torch.nn as nn\n",
        "import torch.nn.functional as F\n",
        "\n",
        "import seaborn as sns\n",
        "import matplotlib.pyplot as plt\n",
        "from IPython.display import clear_output\n",
        "\n",
        "from torch.optim import AdamW\n",
        "from torch.optim.lr_scheduler import StepLR\n",
        "\n",
        "sns.set(rc={\"figure.figsize\":(15, 5)})"
      ]
    },
    {
      "cell_type": "code",
      "source": [
        "def set_all_seeds(seed=42):\n",
        "    \n",
        "    # python's seeds\n",
        "    random.seed(seed)\n",
        "    os.environ['PYTHONHASHSEED'] = str(seed)\n",
        "    np.random.seed(seed)\n",
        "    \n",
        "    # torch's seeds\n",
        "    torch.manual_seed(seed)\n",
        "    torch.cuda.manual_seed(seed)\n",
        "    torch.backends.cudnn.deterministic = True\n",
        "    torch.backends.cudnn.benchmark = False\n",
        "    \n",
        "DEFAULT_RANDOM_SEED = 21\n",
        "set_all_seeds(seed=DEFAULT_RANDOM_SEED)"
      ],
      "metadata": {
        "id": "S6Lhtg9lFpx2"
      },
      "execution_count": null,
      "outputs": []
    },
    {
      "cell_type": "code",
      "source": [
        "device = torch.device('cuda' if torch.cuda.is_available() else 'cpu')"
      ],
      "metadata": {
        "id": "j2On-Vk2FqvD"
      },
      "execution_count": null,
      "outputs": []
    },
    {
      "cell_type": "markdown",
      "source": [
        "# Preprocess data"
      ],
      "metadata": {
        "id": "dpOomqRCJ6-b"
      }
    },
    {
      "cell_type": "code",
      "execution_count": null,
      "metadata": {
        "id": "xZd5cI4hclH8",
        "colab": {
          "base_uri": "https://localhost:8080/"
        },
        "outputId": "70d4a702-8941-42d7-9d1d-4f7af7ee5c0a"
      },
      "outputs": [
        {
          "output_type": "stream",
          "name": "stdout",
          "text": [
            "(6151, 3)\n"
          ]
        },
        {
          "output_type": "execute_result",
          "data": {
            "text/plain": [
              "                                             context  \\\n",
              "0  **Вы:** Спасибо большое)).\\nКакую музыку слуша...   \n",
              "1  **Вы:** Я тоже не замужем. Ищу своего принца. ...   \n",
              "2  **Вы:** Ивановская область.\\n\\n**Собеседник:**...   \n",
              "3  **Вы:** Особенно чинить их.\\n\\n**Собеседник:**...   \n",
              "4  **Вы:** В свободное время.\\n\\n**Собеседник:** ...   \n",
              "\n",
              "                                              answer   label  \n",
              "0  Ой, ну тогда давай я тебе порекомендую что-ниб...      ai  \n",
              "1  Может быть и тихие, но совсем не мирные, могут...  people  \n",
              "2                          В деревне у меня на даче.      ai  \n",
              "3       В доме - полный порядок, все на своем месте.      ai  \n",
              "4       Да, я фотографирую, это моя страсть и хобби.      ai  "
            ],
            "text/html": [
              "\n",
              "  <div id=\"df-7eba684c-8f6e-42ab-ae30-8c499815ff37\">\n",
              "    <div class=\"colab-df-container\">\n",
              "      <div>\n",
              "<style scoped>\n",
              "    .dataframe tbody tr th:only-of-type {\n",
              "        vertical-align: middle;\n",
              "    }\n",
              "\n",
              "    .dataframe tbody tr th {\n",
              "        vertical-align: top;\n",
              "    }\n",
              "\n",
              "    .dataframe thead th {\n",
              "        text-align: right;\n",
              "    }\n",
              "</style>\n",
              "<table border=\"1\" class=\"dataframe\">\n",
              "  <thead>\n",
              "    <tr style=\"text-align: right;\">\n",
              "      <th></th>\n",
              "      <th>context</th>\n",
              "      <th>answer</th>\n",
              "      <th>label</th>\n",
              "    </tr>\n",
              "  </thead>\n",
              "  <tbody>\n",
              "    <tr>\n",
              "      <th>0</th>\n",
              "      <td>**Вы:** Спасибо большое)).\\nКакую музыку слуша...</td>\n",
              "      <td>Ой, ну тогда давай я тебе порекомендую что-ниб...</td>\n",
              "      <td>ai</td>\n",
              "    </tr>\n",
              "    <tr>\n",
              "      <th>1</th>\n",
              "      <td>**Вы:** Я тоже не замужем. Ищу своего принца. ...</td>\n",
              "      <td>Может быть и тихие, но совсем не мирные, могут...</td>\n",
              "      <td>people</td>\n",
              "    </tr>\n",
              "    <tr>\n",
              "      <th>2</th>\n",
              "      <td>**Вы:** Ивановская область.\\n\\n**Собеседник:**...</td>\n",
              "      <td>В деревне у меня на даче.</td>\n",
              "      <td>ai</td>\n",
              "    </tr>\n",
              "    <tr>\n",
              "      <th>3</th>\n",
              "      <td>**Вы:** Особенно чинить их.\\n\\n**Собеседник:**...</td>\n",
              "      <td>В доме - полный порядок, все на своем месте.</td>\n",
              "      <td>ai</td>\n",
              "    </tr>\n",
              "    <tr>\n",
              "      <th>4</th>\n",
              "      <td>**Вы:** В свободное время.\\n\\n**Собеседник:** ...</td>\n",
              "      <td>Да, я фотографирую, это моя страсть и хобби.</td>\n",
              "      <td>ai</td>\n",
              "    </tr>\n",
              "  </tbody>\n",
              "</table>\n",
              "</div>\n",
              "      <button class=\"colab-df-convert\" onclick=\"convertToInteractive('df-7eba684c-8f6e-42ab-ae30-8c499815ff37')\"\n",
              "              title=\"Convert this dataframe to an interactive table.\"\n",
              "              style=\"display:none;\">\n",
              "        \n",
              "  <svg xmlns=\"http://www.w3.org/2000/svg\" height=\"24px\"viewBox=\"0 0 24 24\"\n",
              "       width=\"24px\">\n",
              "    <path d=\"M0 0h24v24H0V0z\" fill=\"none\"/>\n",
              "    <path d=\"M18.56 5.44l.94 2.06.94-2.06 2.06-.94-2.06-.94-.94-2.06-.94 2.06-2.06.94zm-11 1L8.5 8.5l.94-2.06 2.06-.94-2.06-.94L8.5 2.5l-.94 2.06-2.06.94zm10 10l.94 2.06.94-2.06 2.06-.94-2.06-.94-.94-2.06-.94 2.06-2.06.94z\"/><path d=\"M17.41 7.96l-1.37-1.37c-.4-.4-.92-.59-1.43-.59-.52 0-1.04.2-1.43.59L10.3 9.45l-7.72 7.72c-.78.78-.78 2.05 0 2.83L4 21.41c.39.39.9.59 1.41.59.51 0 1.02-.2 1.41-.59l7.78-7.78 2.81-2.81c.8-.78.8-2.07 0-2.86zM5.41 20L4 18.59l7.72-7.72 1.47 1.35L5.41 20z\"/>\n",
              "  </svg>\n",
              "      </button>\n",
              "      \n",
              "  <style>\n",
              "    .colab-df-container {\n",
              "      display:flex;\n",
              "      flex-wrap:wrap;\n",
              "      gap: 12px;\n",
              "    }\n",
              "\n",
              "    .colab-df-convert {\n",
              "      background-color: #E8F0FE;\n",
              "      border: none;\n",
              "      border-radius: 50%;\n",
              "      cursor: pointer;\n",
              "      display: none;\n",
              "      fill: #1967D2;\n",
              "      height: 32px;\n",
              "      padding: 0 0 0 0;\n",
              "      width: 32px;\n",
              "    }\n",
              "\n",
              "    .colab-df-convert:hover {\n",
              "      background-color: #E2EBFA;\n",
              "      box-shadow: 0px 1px 2px rgba(60, 64, 67, 0.3), 0px 1px 3px 1px rgba(60, 64, 67, 0.15);\n",
              "      fill: #174EA6;\n",
              "    }\n",
              "\n",
              "    [theme=dark] .colab-df-convert {\n",
              "      background-color: #3B4455;\n",
              "      fill: #D2E3FC;\n",
              "    }\n",
              "\n",
              "    [theme=dark] .colab-df-convert:hover {\n",
              "      background-color: #434B5C;\n",
              "      box-shadow: 0px 1px 3px 1px rgba(0, 0, 0, 0.15);\n",
              "      filter: drop-shadow(0px 1px 2px rgba(0, 0, 0, 0.3));\n",
              "      fill: #FFFFFF;\n",
              "    }\n",
              "  </style>\n",
              "\n",
              "      <script>\n",
              "        const buttonEl =\n",
              "          document.querySelector('#df-7eba684c-8f6e-42ab-ae30-8c499815ff37 button.colab-df-convert');\n",
              "        buttonEl.style.display =\n",
              "          google.colab.kernel.accessAllowed ? 'block' : 'none';\n",
              "\n",
              "        async function convertToInteractive(key) {\n",
              "          const element = document.querySelector('#df-7eba684c-8f6e-42ab-ae30-8c499815ff37');\n",
              "          const dataTable =\n",
              "            await google.colab.kernel.invokeFunction('convertToInteractive',\n",
              "                                                     [key], {});\n",
              "          if (!dataTable) return;\n",
              "\n",
              "          const docLinkHtml = 'Like what you see? Visit the ' +\n",
              "            '<a target=\"_blank\" href=https://colab.research.google.com/notebooks/data_table.ipynb>data table notebook</a>'\n",
              "            + ' to learn more about interactive tables.';\n",
              "          element.innerHTML = '';\n",
              "          dataTable['output_type'] = 'display_data';\n",
              "          await google.colab.output.renderOutput(dataTable, element);\n",
              "          const docLink = document.createElement('div');\n",
              "          docLink.innerHTML = docLinkHtml;\n",
              "          element.appendChild(docLink);\n",
              "        }\n",
              "      </script>\n",
              "    </div>\n",
              "  </div>\n",
              "  "
            ]
          },
          "metadata": {},
          "execution_count": 5
        }
      ],
      "source": [
        "train = pd.read_csv('/content/train.csv')\n",
        "print(train.shape)\n",
        "train.head()"
      ]
    },
    {
      "cell_type": "code",
      "source": [
        "test = pd.read_csv('/content/public_test.csv')\n",
        "print(test.shape)\n",
        "test.head()"
      ],
      "metadata": {
        "colab": {
          "base_uri": "https://localhost:8080/"
        },
        "id": "GWz5zzsJGb68",
        "outputId": "08be3adb-f982-498e-e89f-6691cc656c42"
      },
      "execution_count": null,
      "outputs": [
        {
          "output_type": "stream",
          "name": "stdout",
          "text": [
            "(1636, 2)\n"
          ]
        },
        {
          "output_type": "execute_result",
          "data": {
            "text/plain": [
              "                                             context  \\\n",
              "0  **Вы:** Я бы тоже с удовольствием « под гитарк...   \n",
              "1  **Вы:** Ну, что рассказать, работаю на стройке...   \n",
              "2  **Вы:** Вот на днях старший( 10 лет) заявляет-...   \n",
              "3  **Вы:** А я играю на пианинр.\\nА я играю на пи...   \n",
              "4  **Вы:** Достаточно неординарное сравнение)).\\n...   \n",
              "\n",
              "                                              answer  \n",
              "0  Круто) Природа, романтика, гитара, костер, - н...  \n",
              "1  На бирже играю плюс испанский язык учу. Любое ...  \n",
              "2  Как же здорово, что ты наконец-то решился осущ...  \n",
              "3  О, я бы с удовольствием приехал в Анапу и поиг...  \n",
              "4  Нет, я не умею делать анимации, но мне было бы...  "
            ],
            "text/html": [
              "\n",
              "  <div id=\"df-a77e8fbb-b962-4346-a6cf-2869665b7f12\">\n",
              "    <div class=\"colab-df-container\">\n",
              "      <div>\n",
              "<style scoped>\n",
              "    .dataframe tbody tr th:only-of-type {\n",
              "        vertical-align: middle;\n",
              "    }\n",
              "\n",
              "    .dataframe tbody tr th {\n",
              "        vertical-align: top;\n",
              "    }\n",
              "\n",
              "    .dataframe thead th {\n",
              "        text-align: right;\n",
              "    }\n",
              "</style>\n",
              "<table border=\"1\" class=\"dataframe\">\n",
              "  <thead>\n",
              "    <tr style=\"text-align: right;\">\n",
              "      <th></th>\n",
              "      <th>context</th>\n",
              "      <th>answer</th>\n",
              "    </tr>\n",
              "  </thead>\n",
              "  <tbody>\n",
              "    <tr>\n",
              "      <th>0</th>\n",
              "      <td>**Вы:** Я бы тоже с удовольствием « под гитарк...</td>\n",
              "      <td>Круто) Природа, романтика, гитара, костер, - н...</td>\n",
              "    </tr>\n",
              "    <tr>\n",
              "      <th>1</th>\n",
              "      <td>**Вы:** Ну, что рассказать, работаю на стройке...</td>\n",
              "      <td>На бирже играю плюс испанский язык учу. Любое ...</td>\n",
              "    </tr>\n",
              "    <tr>\n",
              "      <th>2</th>\n",
              "      <td>**Вы:** Вот на днях старший( 10 лет) заявляет-...</td>\n",
              "      <td>Как же здорово, что ты наконец-то решился осущ...</td>\n",
              "    </tr>\n",
              "    <tr>\n",
              "      <th>3</th>\n",
              "      <td>**Вы:** А я играю на пианинр.\\nА я играю на пи...</td>\n",
              "      <td>О, я бы с удовольствием приехал в Анапу и поиг...</td>\n",
              "    </tr>\n",
              "    <tr>\n",
              "      <th>4</th>\n",
              "      <td>**Вы:** Достаточно неординарное сравнение)).\\n...</td>\n",
              "      <td>Нет, я не умею делать анимации, но мне было бы...</td>\n",
              "    </tr>\n",
              "  </tbody>\n",
              "</table>\n",
              "</div>\n",
              "      <button class=\"colab-df-convert\" onclick=\"convertToInteractive('df-a77e8fbb-b962-4346-a6cf-2869665b7f12')\"\n",
              "              title=\"Convert this dataframe to an interactive table.\"\n",
              "              style=\"display:none;\">\n",
              "        \n",
              "  <svg xmlns=\"http://www.w3.org/2000/svg\" height=\"24px\"viewBox=\"0 0 24 24\"\n",
              "       width=\"24px\">\n",
              "    <path d=\"M0 0h24v24H0V0z\" fill=\"none\"/>\n",
              "    <path d=\"M18.56 5.44l.94 2.06.94-2.06 2.06-.94-2.06-.94-.94-2.06-.94 2.06-2.06.94zm-11 1L8.5 8.5l.94-2.06 2.06-.94-2.06-.94L8.5 2.5l-.94 2.06-2.06.94zm10 10l.94 2.06.94-2.06 2.06-.94-2.06-.94-.94-2.06-.94 2.06-2.06.94z\"/><path d=\"M17.41 7.96l-1.37-1.37c-.4-.4-.92-.59-1.43-.59-.52 0-1.04.2-1.43.59L10.3 9.45l-7.72 7.72c-.78.78-.78 2.05 0 2.83L4 21.41c.39.39.9.59 1.41.59.51 0 1.02-.2 1.41-.59l7.78-7.78 2.81-2.81c.8-.78.8-2.07 0-2.86zM5.41 20L4 18.59l7.72-7.72 1.47 1.35L5.41 20z\"/>\n",
              "  </svg>\n",
              "      </button>\n",
              "      \n",
              "  <style>\n",
              "    .colab-df-container {\n",
              "      display:flex;\n",
              "      flex-wrap:wrap;\n",
              "      gap: 12px;\n",
              "    }\n",
              "\n",
              "    .colab-df-convert {\n",
              "      background-color: #E8F0FE;\n",
              "      border: none;\n",
              "      border-radius: 50%;\n",
              "      cursor: pointer;\n",
              "      display: none;\n",
              "      fill: #1967D2;\n",
              "      height: 32px;\n",
              "      padding: 0 0 0 0;\n",
              "      width: 32px;\n",
              "    }\n",
              "\n",
              "    .colab-df-convert:hover {\n",
              "      background-color: #E2EBFA;\n",
              "      box-shadow: 0px 1px 2px rgba(60, 64, 67, 0.3), 0px 1px 3px 1px rgba(60, 64, 67, 0.15);\n",
              "      fill: #174EA6;\n",
              "    }\n",
              "\n",
              "    [theme=dark] .colab-df-convert {\n",
              "      background-color: #3B4455;\n",
              "      fill: #D2E3FC;\n",
              "    }\n",
              "\n",
              "    [theme=dark] .colab-df-convert:hover {\n",
              "      background-color: #434B5C;\n",
              "      box-shadow: 0px 1px 3px 1px rgba(0, 0, 0, 0.15);\n",
              "      filter: drop-shadow(0px 1px 2px rgba(0, 0, 0, 0.3));\n",
              "      fill: #FFFFFF;\n",
              "    }\n",
              "  </style>\n",
              "\n",
              "      <script>\n",
              "        const buttonEl =\n",
              "          document.querySelector('#df-a77e8fbb-b962-4346-a6cf-2869665b7f12 button.colab-df-convert');\n",
              "        buttonEl.style.display =\n",
              "          google.colab.kernel.accessAllowed ? 'block' : 'none';\n",
              "\n",
              "        async function convertToInteractive(key) {\n",
              "          const element = document.querySelector('#df-a77e8fbb-b962-4346-a6cf-2869665b7f12');\n",
              "          const dataTable =\n",
              "            await google.colab.kernel.invokeFunction('convertToInteractive',\n",
              "                                                     [key], {});\n",
              "          if (!dataTable) return;\n",
              "\n",
              "          const docLinkHtml = 'Like what you see? Visit the ' +\n",
              "            '<a target=\"_blank\" href=https://colab.research.google.com/notebooks/data_table.ipynb>data table notebook</a>'\n",
              "            + ' to learn more about interactive tables.';\n",
              "          element.innerHTML = '';\n",
              "          dataTable['output_type'] = 'display_data';\n",
              "          await google.colab.output.renderOutput(dataTable, element);\n",
              "          const docLink = document.createElement('div');\n",
              "          docLink.innerHTML = docLinkHtml;\n",
              "          element.appendChild(docLink);\n",
              "        }\n",
              "      </script>\n",
              "    </div>\n",
              "  </div>\n",
              "  "
            ]
          },
          "metadata": {},
          "execution_count": 6
        }
      ]
    },
    {
      "cell_type": "code",
      "source": [
        "train['label'] = train['label'].apply(lambda x: 1 if x == 'ai' else 0)"
      ],
      "metadata": {
        "id": "ABU2EdIwKfzt"
      },
      "execution_count": null,
      "outputs": []
    },
    {
      "cell_type": "code",
      "source": [
        "def context_preprocession(x, df_type = 'train'):\n",
        "    if df_type == 'train':\n",
        "        splited_context = [text[text.rfind('*') + 2:] for text in x[0].split('\\n\\n')]\n",
        "        for i, con in enumerate(splited_context):\n",
        "            new_context.append(con)\n",
        "            if i < 2:\n",
        "                new_answer.append(splited_context[i + 1])\n",
        "            else:\n",
        "                new_answer.append(x[1])\n",
        "            if i % 2 != 0:\n",
        "                new_label.append(0)\n",
        "            else:\n",
        "                new_label.append(x[2])\n",
        "    elif df_type == 'test':\n",
        "        splited_context = [text[text.rfind('*') + 2:] for text in x[0].split('\\n\\n')]\n",
        "        new_context.append(splited_context[-1])\n",
        "        new_answer.append(x[1])"
      ],
      "metadata": {
        "id": "cQN5awf5GNYx"
      },
      "execution_count": null,
      "outputs": []
    },
    {
      "cell_type": "code",
      "source": [
        "new_train = pd.DataFrame(0, index=np.arange(train.shape[0] * 3), columns=train.columns)\n",
        "new_context = []\n",
        "new_answer = []\n",
        "new_label = []\n",
        "\n",
        "a = train.apply(context_preprocession, axis=1)\n",
        "\n",
        "new_train['context'] = new_context\n",
        "new_train['answer'] = new_answer\n",
        "new_train['label'] = new_label"
      ],
      "metadata": {
        "id": "e0PvP-zxGODc"
      },
      "execution_count": null,
      "outputs": []
    },
    {
      "cell_type": "code",
      "source": [
        "new_test = pd.DataFrame(0, index=np.arange(test.shape[0]), columns=test.columns)\n",
        "new_context = []\n",
        "new_answer = []\n",
        "\n",
        "a = test.apply(context_preprocession, df_type = 'test', axis=1)\n",
        "\n",
        "new_test['context'] = new_context\n",
        "new_test['answer'] = new_answer"
      ],
      "metadata": {
        "id": "GMOWsC5rGOGC"
      },
      "execution_count": null,
      "outputs": []
    },
    {
      "cell_type": "code",
      "source": [
        "print(new_train.shape)\n",
        "new_train.head()"
      ],
      "metadata": {
        "colab": {
          "base_uri": "https://localhost:8080/"
        },
        "id": "U-4BnmahGOIZ",
        "outputId": "11ddfa37-c67f-4afe-9157-79f04a2cbec7"
      },
      "execution_count": null,
      "outputs": [
        {
          "output_type": "stream",
          "name": "stdout",
          "text": [
            "(18453, 3)\n"
          ]
        },
        {
          "output_type": "execute_result",
          "data": {
            "text/plain": [
              "                                             context  \\\n",
              "0         Спасибо большое)).\\nКакую музыку слушаешь?   \n",
              "1  русский рэп в основном.\\nну там, фейс, элджей ...   \n",
              "2                                          Эм..нет😱.   \n",
              "3  Я тоже не замужем. Ищу своего принца. А пока т...   \n",
              "4  У меня дома живут только рыбки в аквариуме, ед...   \n",
              "\n",
              "                                              answer  label  \n",
              "0  русский рэп в основном.\\nну там, фейс, элджей ...      1  \n",
              "1                                          Эм..нет😱.      0  \n",
              "2  Ой, ну тогда давай я тебе порекомендую что-ниб...      1  \n",
              "3  У меня дома живут только рыбки в аквариуме, ед...      0  \n",
              "4  Рыбки тихие и не причинят дискомфорт. Мой пёси...      0  "
            ],
            "text/html": [
              "\n",
              "  <div id=\"df-98eff1f9-7e80-41d6-90f2-a26dd922a2a0\">\n",
              "    <div class=\"colab-df-container\">\n",
              "      <div>\n",
              "<style scoped>\n",
              "    .dataframe tbody tr th:only-of-type {\n",
              "        vertical-align: middle;\n",
              "    }\n",
              "\n",
              "    .dataframe tbody tr th {\n",
              "        vertical-align: top;\n",
              "    }\n",
              "\n",
              "    .dataframe thead th {\n",
              "        text-align: right;\n",
              "    }\n",
              "</style>\n",
              "<table border=\"1\" class=\"dataframe\">\n",
              "  <thead>\n",
              "    <tr style=\"text-align: right;\">\n",
              "      <th></th>\n",
              "      <th>context</th>\n",
              "      <th>answer</th>\n",
              "      <th>label</th>\n",
              "    </tr>\n",
              "  </thead>\n",
              "  <tbody>\n",
              "    <tr>\n",
              "      <th>0</th>\n",
              "      <td>Спасибо большое)).\\nКакую музыку слушаешь?</td>\n",
              "      <td>русский рэп в основном.\\nну там, фейс, элджей ...</td>\n",
              "      <td>1</td>\n",
              "    </tr>\n",
              "    <tr>\n",
              "      <th>1</th>\n",
              "      <td>русский рэп в основном.\\nну там, фейс, элджей ...</td>\n",
              "      <td>Эм..нет😱.</td>\n",
              "      <td>0</td>\n",
              "    </tr>\n",
              "    <tr>\n",
              "      <th>2</th>\n",
              "      <td>Эм..нет😱.</td>\n",
              "      <td>Ой, ну тогда давай я тебе порекомендую что-ниб...</td>\n",
              "      <td>1</td>\n",
              "    </tr>\n",
              "    <tr>\n",
              "      <th>3</th>\n",
              "      <td>Я тоже не замужем. Ищу своего принца. А пока т...</td>\n",
              "      <td>У меня дома живут только рыбки в аквариуме, ед...</td>\n",
              "      <td>0</td>\n",
              "    </tr>\n",
              "    <tr>\n",
              "      <th>4</th>\n",
              "      <td>У меня дома живут только рыбки в аквариуме, ед...</td>\n",
              "      <td>Рыбки тихие и не причинят дискомфорт. Мой пёси...</td>\n",
              "      <td>0</td>\n",
              "    </tr>\n",
              "  </tbody>\n",
              "</table>\n",
              "</div>\n",
              "      <button class=\"colab-df-convert\" onclick=\"convertToInteractive('df-98eff1f9-7e80-41d6-90f2-a26dd922a2a0')\"\n",
              "              title=\"Convert this dataframe to an interactive table.\"\n",
              "              style=\"display:none;\">\n",
              "        \n",
              "  <svg xmlns=\"http://www.w3.org/2000/svg\" height=\"24px\"viewBox=\"0 0 24 24\"\n",
              "       width=\"24px\">\n",
              "    <path d=\"M0 0h24v24H0V0z\" fill=\"none\"/>\n",
              "    <path d=\"M18.56 5.44l.94 2.06.94-2.06 2.06-.94-2.06-.94-.94-2.06-.94 2.06-2.06.94zm-11 1L8.5 8.5l.94-2.06 2.06-.94-2.06-.94L8.5 2.5l-.94 2.06-2.06.94zm10 10l.94 2.06.94-2.06 2.06-.94-2.06-.94-.94-2.06-.94 2.06-2.06.94z\"/><path d=\"M17.41 7.96l-1.37-1.37c-.4-.4-.92-.59-1.43-.59-.52 0-1.04.2-1.43.59L10.3 9.45l-7.72 7.72c-.78.78-.78 2.05 0 2.83L4 21.41c.39.39.9.59 1.41.59.51 0 1.02-.2 1.41-.59l7.78-7.78 2.81-2.81c.8-.78.8-2.07 0-2.86zM5.41 20L4 18.59l7.72-7.72 1.47 1.35L5.41 20z\"/>\n",
              "  </svg>\n",
              "      </button>\n",
              "      \n",
              "  <style>\n",
              "    .colab-df-container {\n",
              "      display:flex;\n",
              "      flex-wrap:wrap;\n",
              "      gap: 12px;\n",
              "    }\n",
              "\n",
              "    .colab-df-convert {\n",
              "      background-color: #E8F0FE;\n",
              "      border: none;\n",
              "      border-radius: 50%;\n",
              "      cursor: pointer;\n",
              "      display: none;\n",
              "      fill: #1967D2;\n",
              "      height: 32px;\n",
              "      padding: 0 0 0 0;\n",
              "      width: 32px;\n",
              "    }\n",
              "\n",
              "    .colab-df-convert:hover {\n",
              "      background-color: #E2EBFA;\n",
              "      box-shadow: 0px 1px 2px rgba(60, 64, 67, 0.3), 0px 1px 3px 1px rgba(60, 64, 67, 0.15);\n",
              "      fill: #174EA6;\n",
              "    }\n",
              "\n",
              "    [theme=dark] .colab-df-convert {\n",
              "      background-color: #3B4455;\n",
              "      fill: #D2E3FC;\n",
              "    }\n",
              "\n",
              "    [theme=dark] .colab-df-convert:hover {\n",
              "      background-color: #434B5C;\n",
              "      box-shadow: 0px 1px 3px 1px rgba(0, 0, 0, 0.15);\n",
              "      filter: drop-shadow(0px 1px 2px rgba(0, 0, 0, 0.3));\n",
              "      fill: #FFFFFF;\n",
              "    }\n",
              "  </style>\n",
              "\n",
              "      <script>\n",
              "        const buttonEl =\n",
              "          document.querySelector('#df-98eff1f9-7e80-41d6-90f2-a26dd922a2a0 button.colab-df-convert');\n",
              "        buttonEl.style.display =\n",
              "          google.colab.kernel.accessAllowed ? 'block' : 'none';\n",
              "\n",
              "        async function convertToInteractive(key) {\n",
              "          const element = document.querySelector('#df-98eff1f9-7e80-41d6-90f2-a26dd922a2a0');\n",
              "          const dataTable =\n",
              "            await google.colab.kernel.invokeFunction('convertToInteractive',\n",
              "                                                     [key], {});\n",
              "          if (!dataTable) return;\n",
              "\n",
              "          const docLinkHtml = 'Like what you see? Visit the ' +\n",
              "            '<a target=\"_blank\" href=https://colab.research.google.com/notebooks/data_table.ipynb>data table notebook</a>'\n",
              "            + ' to learn more about interactive tables.';\n",
              "          element.innerHTML = '';\n",
              "          dataTable['output_type'] = 'display_data';\n",
              "          await google.colab.output.renderOutput(dataTable, element);\n",
              "          const docLink = document.createElement('div');\n",
              "          docLink.innerHTML = docLinkHtml;\n",
              "          element.appendChild(docLink);\n",
              "        }\n",
              "      </script>\n",
              "    </div>\n",
              "  </div>\n",
              "  "
            ]
          },
          "metadata": {},
          "execution_count": 11
        }
      ]
    },
    {
      "cell_type": "code",
      "source": [
        "print(new_test.shape)\n",
        "new_test.head()"
      ],
      "metadata": {
        "colab": {
          "base_uri": "https://localhost:8080/"
        },
        "id": "PxDqBRQ3GofZ",
        "outputId": "876a4e33-7b69-4052-afb5-a99eda9baf71"
      },
      "execution_count": null,
      "outputs": [
        {
          "output_type": "stream",
          "name": "stdout",
          "text": [
            "(1636, 2)\n"
          ]
        },
        {
          "output_type": "execute_result",
          "data": {
            "text/plain": [
              "                                             context  \\\n",
              "0                                       Да, конечно!   \n",
              "1                                  А так есть хобби?   \n",
              "2  Я аж оторопел. И правда всю жизнь мечтал, да в...   \n",
              "3                                             Круто!   \n",
              "4  Тексты.\\nА что с анимацией? ты имеешь ввиду ум...   \n",
              "\n",
              "                                              answer  \n",
              "0  Круто) Природа, романтика, гитара, костер, - н...  \n",
              "1  На бирже играю плюс испанский язык учу. Любое ...  \n",
              "2  Как же здорово, что ты наконец-то решился осущ...  \n",
              "3  О, я бы с удовольствием приехал в Анапу и поиг...  \n",
              "4  Нет, я не умею делать анимации, но мне было бы...  "
            ],
            "text/html": [
              "\n",
              "  <div id=\"df-e6814267-bb5f-47e1-a5ea-808c5fad7603\">\n",
              "    <div class=\"colab-df-container\">\n",
              "      <div>\n",
              "<style scoped>\n",
              "    .dataframe tbody tr th:only-of-type {\n",
              "        vertical-align: middle;\n",
              "    }\n",
              "\n",
              "    .dataframe tbody tr th {\n",
              "        vertical-align: top;\n",
              "    }\n",
              "\n",
              "    .dataframe thead th {\n",
              "        text-align: right;\n",
              "    }\n",
              "</style>\n",
              "<table border=\"1\" class=\"dataframe\">\n",
              "  <thead>\n",
              "    <tr style=\"text-align: right;\">\n",
              "      <th></th>\n",
              "      <th>context</th>\n",
              "      <th>answer</th>\n",
              "    </tr>\n",
              "  </thead>\n",
              "  <tbody>\n",
              "    <tr>\n",
              "      <th>0</th>\n",
              "      <td>Да, конечно!</td>\n",
              "      <td>Круто) Природа, романтика, гитара, костер, - н...</td>\n",
              "    </tr>\n",
              "    <tr>\n",
              "      <th>1</th>\n",
              "      <td>А так есть хобби?</td>\n",
              "      <td>На бирже играю плюс испанский язык учу. Любое ...</td>\n",
              "    </tr>\n",
              "    <tr>\n",
              "      <th>2</th>\n",
              "      <td>Я аж оторопел. И правда всю жизнь мечтал, да в...</td>\n",
              "      <td>Как же здорово, что ты наконец-то решился осущ...</td>\n",
              "    </tr>\n",
              "    <tr>\n",
              "      <th>3</th>\n",
              "      <td>Круто!</td>\n",
              "      <td>О, я бы с удовольствием приехал в Анапу и поиг...</td>\n",
              "    </tr>\n",
              "    <tr>\n",
              "      <th>4</th>\n",
              "      <td>Тексты.\\nА что с анимацией? ты имеешь ввиду ум...</td>\n",
              "      <td>Нет, я не умею делать анимации, но мне было бы...</td>\n",
              "    </tr>\n",
              "  </tbody>\n",
              "</table>\n",
              "</div>\n",
              "      <button class=\"colab-df-convert\" onclick=\"convertToInteractive('df-e6814267-bb5f-47e1-a5ea-808c5fad7603')\"\n",
              "              title=\"Convert this dataframe to an interactive table.\"\n",
              "              style=\"display:none;\">\n",
              "        \n",
              "  <svg xmlns=\"http://www.w3.org/2000/svg\" height=\"24px\"viewBox=\"0 0 24 24\"\n",
              "       width=\"24px\">\n",
              "    <path d=\"M0 0h24v24H0V0z\" fill=\"none\"/>\n",
              "    <path d=\"M18.56 5.44l.94 2.06.94-2.06 2.06-.94-2.06-.94-.94-2.06-.94 2.06-2.06.94zm-11 1L8.5 8.5l.94-2.06 2.06-.94-2.06-.94L8.5 2.5l-.94 2.06-2.06.94zm10 10l.94 2.06.94-2.06 2.06-.94-2.06-.94-.94-2.06-.94 2.06-2.06.94z\"/><path d=\"M17.41 7.96l-1.37-1.37c-.4-.4-.92-.59-1.43-.59-.52 0-1.04.2-1.43.59L10.3 9.45l-7.72 7.72c-.78.78-.78 2.05 0 2.83L4 21.41c.39.39.9.59 1.41.59.51 0 1.02-.2 1.41-.59l7.78-7.78 2.81-2.81c.8-.78.8-2.07 0-2.86zM5.41 20L4 18.59l7.72-7.72 1.47 1.35L5.41 20z\"/>\n",
              "  </svg>\n",
              "      </button>\n",
              "      \n",
              "  <style>\n",
              "    .colab-df-container {\n",
              "      display:flex;\n",
              "      flex-wrap:wrap;\n",
              "      gap: 12px;\n",
              "    }\n",
              "\n",
              "    .colab-df-convert {\n",
              "      background-color: #E8F0FE;\n",
              "      border: none;\n",
              "      border-radius: 50%;\n",
              "      cursor: pointer;\n",
              "      display: none;\n",
              "      fill: #1967D2;\n",
              "      height: 32px;\n",
              "      padding: 0 0 0 0;\n",
              "      width: 32px;\n",
              "    }\n",
              "\n",
              "    .colab-df-convert:hover {\n",
              "      background-color: #E2EBFA;\n",
              "      box-shadow: 0px 1px 2px rgba(60, 64, 67, 0.3), 0px 1px 3px 1px rgba(60, 64, 67, 0.15);\n",
              "      fill: #174EA6;\n",
              "    }\n",
              "\n",
              "    [theme=dark] .colab-df-convert {\n",
              "      background-color: #3B4455;\n",
              "      fill: #D2E3FC;\n",
              "    }\n",
              "\n",
              "    [theme=dark] .colab-df-convert:hover {\n",
              "      background-color: #434B5C;\n",
              "      box-shadow: 0px 1px 3px 1px rgba(0, 0, 0, 0.15);\n",
              "      filter: drop-shadow(0px 1px 2px rgba(0, 0, 0, 0.3));\n",
              "      fill: #FFFFFF;\n",
              "    }\n",
              "  </style>\n",
              "\n",
              "      <script>\n",
              "        const buttonEl =\n",
              "          document.querySelector('#df-e6814267-bb5f-47e1-a5ea-808c5fad7603 button.colab-df-convert');\n",
              "        buttonEl.style.display =\n",
              "          google.colab.kernel.accessAllowed ? 'block' : 'none';\n",
              "\n",
              "        async function convertToInteractive(key) {\n",
              "          const element = document.querySelector('#df-e6814267-bb5f-47e1-a5ea-808c5fad7603');\n",
              "          const dataTable =\n",
              "            await google.colab.kernel.invokeFunction('convertToInteractive',\n",
              "                                                     [key], {});\n",
              "          if (!dataTable) return;\n",
              "\n",
              "          const docLinkHtml = 'Like what you see? Visit the ' +\n",
              "            '<a target=\"_blank\" href=https://colab.research.google.com/notebooks/data_table.ipynb>data table notebook</a>'\n",
              "            + ' to learn more about interactive tables.';\n",
              "          element.innerHTML = '';\n",
              "          dataTable['output_type'] = 'display_data';\n",
              "          await google.colab.output.renderOutput(dataTable, element);\n",
              "          const docLink = document.createElement('div');\n",
              "          docLink.innerHTML = docLinkHtml;\n",
              "          element.appendChild(docLink);\n",
              "        }\n",
              "      </script>\n",
              "    </div>\n",
              "  </div>\n",
              "  "
            ]
          },
          "metadata": {},
          "execution_count": 12
        }
      ]
    },
    {
      "cell_type": "markdown",
      "source": [
        "# Bert model"
      ],
      "metadata": {
        "id": "kBpGoQLLMOOB"
      }
    },
    {
      "cell_type": "code",
      "source": [
        "model_name = \"DeepPavlov/rubert-base-cased-conversational\" \n",
        "\n",
        "deep_pavlov_classifier = AutoModelForSequenceClassification.from_pretrained(model_name, num_labels=2).to(device)\n",
        "deep_pavlov_tokenizer = AutoTokenizer.from_pretrained(model_name)"
      ],
      "metadata": {
        "colab": {
          "base_uri": "https://localhost:8080/"
        },
        "id": "kJq1Or2PMQGv",
        "outputId": "40f92f42-9af9-4a41-c724-0fdf5d7556be"
      },
      "execution_count": null,
      "outputs": [
        {
          "output_type": "stream",
          "name": "stderr",
          "text": [
            "Some weights of the model checkpoint at DeepPavlov/rubert-base-cased-conversational were not used when initializing BertForSequenceClassification: ['cls.predictions.transform.LayerNorm.bias', 'cls.seq_relationship.bias', 'cls.predictions.decoder.weight', 'cls.predictions.transform.LayerNorm.weight', 'cls.predictions.decoder.bias', 'cls.seq_relationship.weight', 'cls.predictions.transform.dense.weight', 'cls.predictions.transform.dense.bias', 'cls.predictions.bias']\n",
            "- This IS expected if you are initializing BertForSequenceClassification from the checkpoint of a model trained on another task or with another architecture (e.g. initializing a BertForSequenceClassification model from a BertForPreTraining model).\n",
            "- This IS NOT expected if you are initializing BertForSequenceClassification from the checkpoint of a model that you expect to be exactly identical (initializing a BertForSequenceClassification model from a BertForSequenceClassification model).\n",
            "Some weights of BertForSequenceClassification were not initialized from the model checkpoint at DeepPavlov/rubert-base-cased-conversational and are newly initialized: ['classifier.weight', 'classifier.bias']\n",
            "You should probably TRAIN this model on a down-stream task to be able to use it for predictions and inference.\n"
          ]
        }
      ]
    },
    {
      "cell_type": "markdown",
      "source": [
        "# Embeddings"
      ],
      "metadata": {
        "id": "U7t1rzfmHFGl"
      }
    },
    {
      "cell_type": "code",
      "source": [
        "deep_pavlov_base = AutoModel.from_pretrained(model_name).to(device)"
      ],
      "metadata": {
        "colab": {
          "base_uri": "https://localhost:8080/"
        },
        "id": "yRj2XAzVIQYA",
        "outputId": "18c98731-57dc-4cae-c898-a6579f666c91"
      },
      "execution_count": null,
      "outputs": [
        {
          "output_type": "stream",
          "name": "stderr",
          "text": [
            "Some weights of the model checkpoint at DeepPavlov/rubert-base-cased-conversational were not used when initializing BertModel: ['cls.predictions.transform.LayerNorm.bias', 'cls.seq_relationship.bias', 'cls.predictions.decoder.weight', 'cls.predictions.transform.LayerNorm.weight', 'cls.predictions.decoder.bias', 'cls.seq_relationship.weight', 'cls.predictions.transform.dense.weight', 'cls.predictions.transform.dense.bias', 'cls.predictions.bias']\n",
            "- This IS expected if you are initializing BertModel from the checkpoint of a model trained on another task or with another architecture (e.g. initializing a BertForSequenceClassification model from a BertForPreTraining model).\n",
            "- This IS NOT expected if you are initializing BertModel from the checkpoint of a model that you expect to be exactly identical (initializing a BertForSequenceClassification model from a BertForSequenceClassification model).\n"
          ]
        }
      ]
    },
    {
      "cell_type": "code",
      "source": [
        "new_train['text'] = new_train.apply(lambda x: x.context + \" [SEP] \" + x.answer, axis=1)\n",
        "train['text'] = train.apply(lambda x: x.context + \" [SEP] \" + x.answer, axis=1)"
      ],
      "metadata": {
        "id": "AaIqYNcbHH_w"
      },
      "execution_count": null,
      "outputs": []
    },
    {
      "cell_type": "code",
      "source": [
        "def mean_pooling(model_output, attention_mask):\n",
        "    token_embeddings = model_output[0] #First element of model_output contains all token embeddings\n",
        "    input_mask_expanded = attention_mask.unsqueeze(-1).expand(token_embeddings.size()).float()\n",
        "    return torch.sum(token_embeddings * input_mask_expanded, 1) / torch.clamp(input_mask_expanded.sum(1), min=1e-9)\n",
        "\n",
        "def get_embeds(text, model, tokenizer):\n",
        "    encoded_input = tokenizer(text, padding=True, truncation=True, return_tensors='pt').to(device)\n",
        "    with torch.no_grad():\n",
        "        model_output = model(**encoded_input)\n",
        "    sentence_embeddings = mean_pooling(model_output, encoded_input['attention_mask'])\n",
        "    sentence_embeddings = F.normalize(sentence_embeddings, p=2, dim=1)\n",
        "    return sentence_embeddings[0].to('cpu')"
      ],
      "metadata": {
        "id": "C_PpQOZAHMVF"
      },
      "execution_count": null,
      "outputs": []
    },
    {
      "cell_type": "code",
      "source": [
        "train['embedding'] = train['answer'].apply(get_embeds, model=deep_pavlov_base, tokenizer=deep_pavlov_tokenizer)\n",
        "test['embedding'] = test['answer'].apply(get_embeds, model=deep_pavlov_base, tokenizer=deep_pavlov_tokenizer)"
      ],
      "metadata": {
        "id": "2l-_0eLkII56"
      },
      "execution_count": null,
      "outputs": []
    },
    {
      "cell_type": "code",
      "source": [
        "train.head()"
      ],
      "metadata": {
        "colab": {
          "base_uri": "https://localhost:8080/",
          "height": 337
        },
        "id": "5B8mFKpoIqyF",
        "outputId": "42aef591-e815-4085-f631-1c3562c4a721"
      },
      "execution_count": null,
      "outputs": [
        {
          "output_type": "execute_result",
          "data": {
            "text/plain": [
              "                                             context  \\\n",
              "0  **Вы:** Спасибо большое)).\\nКакую музыку слуша...   \n",
              "1  **Вы:** Я тоже не замужем. Ищу своего принца. ...   \n",
              "2  **Вы:** Ивановская область.\\n\\n**Собеседник:**...   \n",
              "3  **Вы:** Особенно чинить их.\\n\\n**Собеседник:**...   \n",
              "4  **Вы:** В свободное время.\\n\\n**Собеседник:** ...   \n",
              "\n",
              "                                              answer  label  \\\n",
              "0  Ой, ну тогда давай я тебе порекомендую что-ниб...      1   \n",
              "1  Может быть и тихие, но совсем не мирные, могут...      0   \n",
              "2                          В деревне у меня на даче.      1   \n",
              "3       В доме - полный порядок, все на своем месте.      1   \n",
              "4       Да, я фотографирую, это моя страсть и хобби.      1   \n",
              "\n",
              "                                                text  \\\n",
              "0  **Вы:** Спасибо большое)).\\nКакую музыку слуша...   \n",
              "1  **Вы:** Я тоже не замужем. Ищу своего принца. ...   \n",
              "2  **Вы:** Ивановская область.\\n\\n**Собеседник:**...   \n",
              "3  **Вы:** Особенно чинить их.\\n\\n**Собеседник:**...   \n",
              "4  **Вы:** В свободное время.\\n\\n**Собеседник:** ...   \n",
              "\n",
              "                                           embedding  \n",
              "0  [tensor(-0.0209, device='cuda:0'), tensor(-0.0...  \n",
              "1  [tensor(-0.0002, device='cuda:0'), tensor(-0.0...  \n",
              "2  [tensor(-0.0485, device='cuda:0'), tensor(0.00...  \n",
              "3  [tensor(0.0142, device='cuda:0'), tensor(-0.01...  \n",
              "4  [tensor(0.0434, device='cuda:0'), tensor(0.005...  "
            ],
            "text/html": [
              "\n",
              "  <div id=\"df-9cce89a4-7d20-4dfe-97c7-6b977b4fff05\">\n",
              "    <div class=\"colab-df-container\">\n",
              "      <div>\n",
              "<style scoped>\n",
              "    .dataframe tbody tr th:only-of-type {\n",
              "        vertical-align: middle;\n",
              "    }\n",
              "\n",
              "    .dataframe tbody tr th {\n",
              "        vertical-align: top;\n",
              "    }\n",
              "\n",
              "    .dataframe thead th {\n",
              "        text-align: right;\n",
              "    }\n",
              "</style>\n",
              "<table border=\"1\" class=\"dataframe\">\n",
              "  <thead>\n",
              "    <tr style=\"text-align: right;\">\n",
              "      <th></th>\n",
              "      <th>context</th>\n",
              "      <th>answer</th>\n",
              "      <th>label</th>\n",
              "      <th>text</th>\n",
              "      <th>embedding</th>\n",
              "    </tr>\n",
              "  </thead>\n",
              "  <tbody>\n",
              "    <tr>\n",
              "      <th>0</th>\n",
              "      <td>**Вы:** Спасибо большое)).\\nКакую музыку слуша...</td>\n",
              "      <td>Ой, ну тогда давай я тебе порекомендую что-ниб...</td>\n",
              "      <td>1</td>\n",
              "      <td>**Вы:** Спасибо большое)).\\nКакую музыку слуша...</td>\n",
              "      <td>[tensor(-0.0209, device='cuda:0'), tensor(-0.0...</td>\n",
              "    </tr>\n",
              "    <tr>\n",
              "      <th>1</th>\n",
              "      <td>**Вы:** Я тоже не замужем. Ищу своего принца. ...</td>\n",
              "      <td>Может быть и тихие, но совсем не мирные, могут...</td>\n",
              "      <td>0</td>\n",
              "      <td>**Вы:** Я тоже не замужем. Ищу своего принца. ...</td>\n",
              "      <td>[tensor(-0.0002, device='cuda:0'), tensor(-0.0...</td>\n",
              "    </tr>\n",
              "    <tr>\n",
              "      <th>2</th>\n",
              "      <td>**Вы:** Ивановская область.\\n\\n**Собеседник:**...</td>\n",
              "      <td>В деревне у меня на даче.</td>\n",
              "      <td>1</td>\n",
              "      <td>**Вы:** Ивановская область.\\n\\n**Собеседник:**...</td>\n",
              "      <td>[tensor(-0.0485, device='cuda:0'), tensor(0.00...</td>\n",
              "    </tr>\n",
              "    <tr>\n",
              "      <th>3</th>\n",
              "      <td>**Вы:** Особенно чинить их.\\n\\n**Собеседник:**...</td>\n",
              "      <td>В доме - полный порядок, все на своем месте.</td>\n",
              "      <td>1</td>\n",
              "      <td>**Вы:** Особенно чинить их.\\n\\n**Собеседник:**...</td>\n",
              "      <td>[tensor(0.0142, device='cuda:0'), tensor(-0.01...</td>\n",
              "    </tr>\n",
              "    <tr>\n",
              "      <th>4</th>\n",
              "      <td>**Вы:** В свободное время.\\n\\n**Собеседник:** ...</td>\n",
              "      <td>Да, я фотографирую, это моя страсть и хобби.</td>\n",
              "      <td>1</td>\n",
              "      <td>**Вы:** В свободное время.\\n\\n**Собеседник:** ...</td>\n",
              "      <td>[tensor(0.0434, device='cuda:0'), tensor(0.005...</td>\n",
              "    </tr>\n",
              "  </tbody>\n",
              "</table>\n",
              "</div>\n",
              "      <button class=\"colab-df-convert\" onclick=\"convertToInteractive('df-9cce89a4-7d20-4dfe-97c7-6b977b4fff05')\"\n",
              "              title=\"Convert this dataframe to an interactive table.\"\n",
              "              style=\"display:none;\">\n",
              "        \n",
              "  <svg xmlns=\"http://www.w3.org/2000/svg\" height=\"24px\"viewBox=\"0 0 24 24\"\n",
              "       width=\"24px\">\n",
              "    <path d=\"M0 0h24v24H0V0z\" fill=\"none\"/>\n",
              "    <path d=\"M18.56 5.44l.94 2.06.94-2.06 2.06-.94-2.06-.94-.94-2.06-.94 2.06-2.06.94zm-11 1L8.5 8.5l.94-2.06 2.06-.94-2.06-.94L8.5 2.5l-.94 2.06-2.06.94zm10 10l.94 2.06.94-2.06 2.06-.94-2.06-.94-.94-2.06-.94 2.06-2.06.94z\"/><path d=\"M17.41 7.96l-1.37-1.37c-.4-.4-.92-.59-1.43-.59-.52 0-1.04.2-1.43.59L10.3 9.45l-7.72 7.72c-.78.78-.78 2.05 0 2.83L4 21.41c.39.39.9.59 1.41.59.51 0 1.02-.2 1.41-.59l7.78-7.78 2.81-2.81c.8-.78.8-2.07 0-2.86zM5.41 20L4 18.59l7.72-7.72 1.47 1.35L5.41 20z\"/>\n",
              "  </svg>\n",
              "      </button>\n",
              "      \n",
              "  <style>\n",
              "    .colab-df-container {\n",
              "      display:flex;\n",
              "      flex-wrap:wrap;\n",
              "      gap: 12px;\n",
              "    }\n",
              "\n",
              "    .colab-df-convert {\n",
              "      background-color: #E8F0FE;\n",
              "      border: none;\n",
              "      border-radius: 50%;\n",
              "      cursor: pointer;\n",
              "      display: none;\n",
              "      fill: #1967D2;\n",
              "      height: 32px;\n",
              "      padding: 0 0 0 0;\n",
              "      width: 32px;\n",
              "    }\n",
              "\n",
              "    .colab-df-convert:hover {\n",
              "      background-color: #E2EBFA;\n",
              "      box-shadow: 0px 1px 2px rgba(60, 64, 67, 0.3), 0px 1px 3px 1px rgba(60, 64, 67, 0.15);\n",
              "      fill: #174EA6;\n",
              "    }\n",
              "\n",
              "    [theme=dark] .colab-df-convert {\n",
              "      background-color: #3B4455;\n",
              "      fill: #D2E3FC;\n",
              "    }\n",
              "\n",
              "    [theme=dark] .colab-df-convert:hover {\n",
              "      background-color: #434B5C;\n",
              "      box-shadow: 0px 1px 3px 1px rgba(0, 0, 0, 0.15);\n",
              "      filter: drop-shadow(0px 1px 2px rgba(0, 0, 0, 0.3));\n",
              "      fill: #FFFFFF;\n",
              "    }\n",
              "  </style>\n",
              "\n",
              "      <script>\n",
              "        const buttonEl =\n",
              "          document.querySelector('#df-9cce89a4-7d20-4dfe-97c7-6b977b4fff05 button.colab-df-convert');\n",
              "        buttonEl.style.display =\n",
              "          google.colab.kernel.accessAllowed ? 'block' : 'none';\n",
              "\n",
              "        async function convertToInteractive(key) {\n",
              "          const element = document.querySelector('#df-9cce89a4-7d20-4dfe-97c7-6b977b4fff05');\n",
              "          const dataTable =\n",
              "            await google.colab.kernel.invokeFunction('convertToInteractive',\n",
              "                                                     [key], {});\n",
              "          if (!dataTable) return;\n",
              "\n",
              "          const docLinkHtml = 'Like what you see? Visit the ' +\n",
              "            '<a target=\"_blank\" href=https://colab.research.google.com/notebooks/data_table.ipynb>data table notebook</a>'\n",
              "            + ' to learn more about interactive tables.';\n",
              "          element.innerHTML = '';\n",
              "          dataTable['output_type'] = 'display_data';\n",
              "          await google.colab.output.renderOutput(dataTable, element);\n",
              "          const docLink = document.createElement('div');\n",
              "          docLink.innerHTML = docLinkHtml;\n",
              "          element.appendChild(docLink);\n",
              "        }\n",
              "      </script>\n",
              "    </div>\n",
              "  </div>\n",
              "  "
            ]
          },
          "metadata": {},
          "execution_count": 18
        }
      ]
    },
    {
      "cell_type": "markdown",
      "source": [
        "# Prepare data"
      ],
      "metadata": {
        "id": "JoUjnFieMxCV"
      }
    },
    {
      "cell_type": "code",
      "source": [
        "X_train, X_val, y_train, y_val = train_test_split(train['answer'], train['label'], random_state=DEFAULT_RANDOM_SEED, test_size=0.2, shuffle=True)\n",
        "X_train = X_train.tolist()\n",
        "X_val = X_val.tolist()\n",
        "y_train = y_train.tolist()\n",
        "y_val = y_val.tolist()\n",
        "\n",
        "train_encodings = deep_pavlov_tokenizer(X_train, truncation=True, padding=True)\n",
        "val_encodings = deep_pavlov_tokenizer(X_val, truncation=True, padding=True)\n",
        "all_encodings = deep_pavlov_tokenizer(train['answer'].tolist(), truncation=True, padding=True)"
      ],
      "metadata": {
        "id": "M8LcdiWYMIpA"
      },
      "execution_count": null,
      "outputs": []
    },
    {
      "cell_type": "code",
      "source": [
        "class GroupsDataset(torch.utils.data.Dataset):\n",
        "    def __init__(self, encodings, labels):\n",
        "        self.encodings = encodings\n",
        "        self.labels = labels\n",
        "\n",
        "    def __getitem__(self, idx):\n",
        "        item = {k: torch.tensor(v[idx]) for k, v in self.encodings.items()}\n",
        "        item[\"labels\"] = torch.tensor([self.labels[idx]])\n",
        "        return item\n",
        "\n",
        "    def __len__(self):\n",
        "        return len(self.labels)\n",
        "\n",
        "train_dataset = GroupsDataset(train_encodings, y_train)\n",
        "valid_dataset = GroupsDataset(val_encodings, y_val)\n",
        "all_dataset = GroupsDataset(all_encodings, train['label'])"
      ],
      "metadata": {
        "id": "Rr0-Uu1hNX1C"
      },
      "execution_count": null,
      "outputs": []
    },
    {
      "cell_type": "code",
      "execution_count": null,
      "metadata": {
        "id": "6DSRgN5ucYeE"
      },
      "outputs": [],
      "source": [
        "def compute_metrics(pred):\n",
        "    labels = pred.label_ids\n",
        "    preds = pred.predictions.argmax(-1)\n",
        "\n",
        "    f1 = f1_score(labels, preds, average='macro')\n",
        "    f1_people = f1_score(labels, preds, pos_label=0)\n",
        "    f1_ai = f1_score(labels, preds, pos_label=1)\n",
        "    return {\n",
        "            'f1 macro'      : f1,\n",
        "            'f1 people'     : f1_people,\n",
        "            'f1 ai'         : f1_ai\n",
        "            }"
      ]
    },
    {
      "cell_type": "markdown",
      "source": [
        "# Train Deep-Pavlov Bert"
      ],
      "metadata": {
        "id": "RTlpyiGjNnEw"
      }
    },
    {
      "cell_type": "markdown",
      "source": [
        "## Training with 80% of data"
      ],
      "metadata": {
        "id": "jcmMdysPO-xd"
      }
    },
    {
      "cell_type": "code",
      "execution_count": null,
      "metadata": {
        "id": "gtMw8mbLcfPp"
      },
      "outputs": [],
      "source": [
        "training_args = TrainingArguments(\n",
        "    output_dir='./results',\n",
        "    learning_rate=5e-5,\n",
        "    num_train_epochs=10,\n",
        "    per_device_train_batch_size=32,\n",
        "    per_device_eval_batch_size=32,\n",
        "    warmup_steps=250,\n",
        "    weight_decay=0.01,\n",
        "    #logging_dir='./logs',\n",
        "    load_best_model_at_end=True,\n",
        "    logging_steps=250,\n",
        "    save_steps=250,\n",
        "    fp16=True,\n",
        "    evaluation_strategy=\"steps\")\n",
        "\n",
        "trainer = Trainer(\n",
        "    model=deep_pavlov_classifier.to(device),\n",
        "    args=training_args,\n",
        "    train_dataset=train_dataset,\n",
        "    eval_dataset=valid_dataset,\n",
        "    compute_metrics=compute_metrics,\n",
        ")"
      ]
    },
    {
      "cell_type": "code",
      "execution_count": null,
      "metadata": {
        "colab": {
          "base_uri": "https://localhost:8080/",
          "height": 355
        },
        "id": "HNfrqdYld2U4",
        "outputId": "1bb5c9d3-e74c-4d3f-b8fc-a063145091b0"
      },
      "outputs": [
        {
          "output_type": "stream",
          "name": "stderr",
          "text": [
            "/usr/local/lib/python3.10/dist-packages/transformers/optimization.py:391: FutureWarning: This implementation of AdamW is deprecated and will be removed in a future version. Use the PyTorch implementation torch.optim.AdamW instead, or set `no_deprecation_warning=True` to disable this warning\n",
            "  warnings.warn(\n"
          ]
        },
        {
          "output_type": "display_data",
          "data": {
            "text/plain": [
              "<IPython.core.display.HTML object>"
            ],
            "text/html": [
              "\n",
              "    <div>\n",
              "      \n",
              "      <progress value='1540' max='1540' style='width:300px; height:20px; vertical-align: middle;'></progress>\n",
              "      [1540/1540 08:53, Epoch 10/10]\n",
              "    </div>\n",
              "    <table border=\"1\" class=\"dataframe\">\n",
              "  <thead>\n",
              " <tr style=\"text-align: left;\">\n",
              "      <th>Step</th>\n",
              "      <th>Training Loss</th>\n",
              "      <th>Validation Loss</th>\n",
              "      <th>F1 macro</th>\n",
              "      <th>F1 people</th>\n",
              "      <th>F1 ai</th>\n",
              "    </tr>\n",
              "  </thead>\n",
              "  <tbody>\n",
              "    <tr>\n",
              "      <td>250</td>\n",
              "      <td>0.384000</td>\n",
              "      <td>0.340797</td>\n",
              "      <td>0.857454</td>\n",
              "      <td>0.850043</td>\n",
              "      <td>0.864865</td>\n",
              "    </tr>\n",
              "    <tr>\n",
              "      <td>500</td>\n",
              "      <td>0.162900</td>\n",
              "      <td>0.407131</td>\n",
              "      <td>0.883833</td>\n",
              "      <td>0.884211</td>\n",
              "      <td>0.883456</td>\n",
              "    </tr>\n",
              "    <tr>\n",
              "      <td>750</td>\n",
              "      <td>0.071500</td>\n",
              "      <td>0.520366</td>\n",
              "      <td>0.887732</td>\n",
              "      <td>0.883446</td>\n",
              "      <td>0.892019</td>\n",
              "    </tr>\n",
              "    <tr>\n",
              "      <td>1000</td>\n",
              "      <td>0.020000</td>\n",
              "      <td>0.572508</td>\n",
              "      <td>0.906564</td>\n",
              "      <td>0.907779</td>\n",
              "      <td>0.905350</td>\n",
              "    </tr>\n",
              "    <tr>\n",
              "      <td>1250</td>\n",
              "      <td>0.006800</td>\n",
              "      <td>0.695216</td>\n",
              "      <td>0.900892</td>\n",
              "      <td>0.900489</td>\n",
              "      <td>0.901294</td>\n",
              "    </tr>\n",
              "    <tr>\n",
              "      <td>1500</td>\n",
              "      <td>0.002900</td>\n",
              "      <td>0.770801</td>\n",
              "      <td>0.897620</td>\n",
              "      <td>0.896040</td>\n",
              "      <td>0.899200</td>\n",
              "    </tr>\n",
              "  </tbody>\n",
              "</table><p>"
            ]
          },
          "metadata": {}
        },
        {
          "output_type": "execute_result",
          "data": {
            "text/plain": [
              "TrainOutput(global_step=1540, training_loss=0.10535690960558979, metrics={'train_runtime': 536.658, 'train_samples_per_second': 91.679, 'train_steps_per_second': 2.87, 'total_flos': 3337399292832000.0, 'train_loss': 0.10535690960558979, 'epoch': 10.0})"
            ]
          },
          "metadata": {},
          "execution_count": 14
        }
      ],
      "source": [
        "trainer.train()"
      ]
    },
    {
      "cell_type": "markdown",
      "source": [
        "## Training with all of the data"
      ],
      "metadata": {
        "id": "Yb6LdidAPIIy"
      }
    },
    {
      "cell_type": "code",
      "source": [
        "model_name = \"DeepPavlov/rubert-base-cased-conversational\" \n",
        "\n",
        "deep_pavlov_classifier = AutoModelForSequenceClassification.from_pretrained(model_name, num_labels=2)\n",
        "deep_pavlov_tokenizer = AutoTokenizer.from_pretrained(model_name)"
      ],
      "metadata": {
        "id": "cfYIMj1tQCXm",
        "colab": {
          "base_uri": "https://localhost:8080/"
        },
        "outputId": "e96dd128-1973-48e6-f055-090bfecee3ba"
      },
      "execution_count": null,
      "outputs": [
        {
          "output_type": "stream",
          "name": "stderr",
          "text": [
            "Some weights of the model checkpoint at DeepPavlov/rubert-base-cased-conversational were not used when initializing BertForSequenceClassification: ['cls.predictions.decoder.weight', 'cls.seq_relationship.weight', 'cls.predictions.bias', 'cls.predictions.transform.dense.weight', 'cls.seq_relationship.bias', 'cls.predictions.transform.dense.bias', 'cls.predictions.transform.LayerNorm.bias', 'cls.predictions.transform.LayerNorm.weight', 'cls.predictions.decoder.bias']\n",
            "- This IS expected if you are initializing BertForSequenceClassification from the checkpoint of a model trained on another task or with another architecture (e.g. initializing a BertForSequenceClassification model from a BertForPreTraining model).\n",
            "- This IS NOT expected if you are initializing BertForSequenceClassification from the checkpoint of a model that you expect to be exactly identical (initializing a BertForSequenceClassification model from a BertForSequenceClassification model).\n",
            "Some weights of BertForSequenceClassification were not initialized from the model checkpoint at DeepPavlov/rubert-base-cased-conversational and are newly initialized: ['classifier.weight', 'classifier.bias']\n",
            "You should probably TRAIN this model on a down-stream task to be able to use it for predictions and inference.\n"
          ]
        }
      ]
    },
    {
      "cell_type": "code",
      "source": [
        "training_args = TrainingArguments(\n",
        "    output_dir='./results',\n",
        "    learning_rate=5e-5,\n",
        "    num_train_epochs=3,\n",
        "    per_device_train_batch_size=32,\n",
        "    per_device_eval_batch_size=32,\n",
        "    warmup_steps=250,\n",
        "    weight_decay=0.01,\n",
        "    #logging_dir='./logs',\n",
        "    logging_steps=250,\n",
        "    save_steps=250,\n",
        "    fp16=True,)\n",
        "\n",
        "trainer = Trainer(\n",
        "    model=deep_pavlov_classifier.to(device),\n",
        "    args=training_args,\n",
        "    train_dataset=all_dataset,\n",
        "    compute_metrics=compute_metrics,\n",
        ")"
      ],
      "metadata": {
        "id": "jzlXPij1QL7P"
      },
      "execution_count": null,
      "outputs": []
    },
    {
      "cell_type": "code",
      "source": [
        "trainer.train()"
      ],
      "metadata": {
        "id": "eDbdtBcQQyiT",
        "colab": {
          "base_uri": "https://localhost:8080/",
          "height": 230
        },
        "outputId": "be887424-41ed-43b9-9844-ac6831147b3e"
      },
      "execution_count": null,
      "outputs": [
        {
          "output_type": "stream",
          "name": "stderr",
          "text": [
            "/usr/local/lib/python3.10/dist-packages/transformers/optimization.py:391: FutureWarning: This implementation of AdamW is deprecated and will be removed in a future version. Use the PyTorch implementation torch.optim.AdamW instead, or set `no_deprecation_warning=True` to disable this warning\n",
            "  warnings.warn(\n"
          ]
        },
        {
          "output_type": "display_data",
          "data": {
            "text/plain": [
              "<IPython.core.display.HTML object>"
            ],
            "text/html": [
              "\n",
              "    <div>\n",
              "      \n",
              "      <progress value='579' max='579' style='width:300px; height:20px; vertical-align: middle;'></progress>\n",
              "      [579/579 03:08, Epoch 3/3]\n",
              "    </div>\n",
              "    <table border=\"1\" class=\"dataframe\">\n",
              "  <thead>\n",
              " <tr style=\"text-align: left;\">\n",
              "      <th>Step</th>\n",
              "      <th>Training Loss</th>\n",
              "    </tr>\n",
              "  </thead>\n",
              "  <tbody>\n",
              "    <tr>\n",
              "      <td>250</td>\n",
              "      <td>0.386200</td>\n",
              "    </tr>\n",
              "    <tr>\n",
              "      <td>500</td>\n",
              "      <td>0.151400</td>\n",
              "    </tr>\n",
              "  </tbody>\n",
              "</table><p>"
            ]
          },
          "metadata": {}
        },
        {
          "output_type": "execute_result",
          "data": {
            "text/plain": [
              "TrainOutput(global_step=579, training_loss=0.24186497195808793, metrics={'train_runtime': 188.371, 'train_samples_per_second': 97.961, 'train_steps_per_second': 3.074, 'total_flos': 1251728234768880.0, 'train_loss': 0.24186497195808793, 'epoch': 3.0})"
            ]
          },
          "metadata": {},
          "execution_count": 66
        }
      ]
    },
    {
      "cell_type": "markdown",
      "source": [
        "# Train CatBoost"
      ],
      "metadata": {
        "id": "W1h6O5AkJ1Hk"
      }
    },
    {
      "cell_type": "markdown",
      "source": [
        "## Catboost on text features"
      ],
      "metadata": {
        "id": "1f_7-ghgKVoZ"
      }
    },
    {
      "cell_type": "code",
      "source": [
        "cols = ['context', 'answer']\n",
        "\n",
        "N_SPLITS = 5"
      ],
      "metadata": {
        "id": "5xfIFVKKJ41W"
      },
      "execution_count": null,
      "outputs": []
    },
    {
      "cell_type": "code",
      "source": [
        "kf = KFold(n_splits=N_SPLITS)\n",
        "cat_text_preds = pd.DataFrame(0, index=np.arange(test.shape[0]), columns=['label'])\n",
        "\n",
        "i = 0\n",
        "for train_fold, val_fold in kf.split(train):\n",
        "    cat = CatBoostClassifier(task_type=\"GPU\",\n",
        "                         devices='0',\n",
        "                         iterations=10000,\n",
        "                         early_stopping_rounds=100,\n",
        "                         loss_function='Logloss',\n",
        "                         eval_metric=\"F1\",\n",
        "                         random_seed=DEFAULT_RANDOM_SEED,\n",
        "                         verbose = 0)\n",
        "    \n",
        "    train_dataset = Pool(data=train.iloc[train_fold][cols],\n",
        "                     label=train.iloc[train_fold]['label'],\n",
        "                     text_features=cols,\n",
        "                     )\n",
        "\n",
        "    eval_dataset = Pool(data=train.iloc[val_fold][cols],\n",
        "                    label=train.iloc[val_fold]['label'],\n",
        "                    text_features=cols,\n",
        "                    )\n",
        "    \n",
        "    fit_model = cat.fit(train_dataset,\n",
        "                        eval_set=eval_dataset,\n",
        "                        use_best_model=True,\n",
        "                        plot=False)\n",
        "\n",
        "    cat_text_preds['label'] += fit_model.predict_proba(test[cols]).T[0] / N_SPLITS # probs of ai text\n",
        "\n",
        "    f1_people = f1_score(train.iloc[val_fold]['label'], fit_model.predict(train.iloc[val_fold][cols]), pos_label=0)\n",
        "    f1_ai = f1_score(train.iloc[val_fold]['label'], fit_model.predict(train.iloc[val_fold][cols]), pos_label=1)\n",
        "\n",
        "    print(f'fold: {i + 1} f1 people score: {f1_people}')\n",
        "    print(f'fold: {i + 1} f1 ai score: {f1_ai}')\n",
        "    print()\n",
        "    i += 1"
      ],
      "metadata": {
        "colab": {
          "base_uri": "https://localhost:8080/"
        },
        "id": "HzPuo3AXJ9Yi",
        "outputId": "2fd651fe-06a0-485b-a566-9c7fadb11ffc"
      },
      "execution_count": null,
      "outputs": [
        {
          "output_type": "stream",
          "name": "stdout",
          "text": [
            "fold: 1 f1 people score: 0.8148148148148149\n",
            "fold: 1 f1 ai score: 0.7751798561151079\n",
            "\n",
            "fold: 2 f1 people score: 0.8498542274052479\n",
            "fold: 2 f1 ai score: 0.8106617647058824\n",
            "\n",
            "fold: 3 f1 people score: 0.8367816091954023\n",
            "fold: 3 f1 ai score: 0.8155844155844156\n",
            "\n",
            "fold: 4 f1 people score: 0.8273273273273274\n",
            "fold: 4 f1 ai score: 0.7960992907801419\n",
            "\n",
            "fold: 5 f1 people score: 0.8324488248673237\n",
            "fold: 5 f1 ai score: 0.806310254163015\n",
            "\n"
          ]
        }
      ]
    },
    {
      "cell_type": "markdown",
      "source": [
        "## Catboost on embeddings"
      ],
      "metadata": {
        "id": "FY_aaRjERsZU"
      }
    },
    {
      "cell_type": "code",
      "source": [
        "cols = ['embedding']\n",
        "\n",
        "N_SPLITS = 5"
      ],
      "metadata": {
        "id": "qDqS4VypRw64"
      },
      "execution_count": null,
      "outputs": []
    },
    {
      "cell_type": "code",
      "source": [
        "kf = KFold(n_splits=N_SPLITS)\n",
        "cat_emb_preds = pd.DataFrame(0, index=np.arange(test.shape[0]), columns=['label'])\n",
        "\n",
        "i = 0\n",
        "for train_fold, val_fold in kf.split(train):\n",
        "    cat = CatBoostClassifier(task_type=\"GPU\",\n",
        "                         devices='0',\n",
        "                         iterations=10000,\n",
        "                         early_stopping_rounds=100,\n",
        "                         loss_function='Logloss',\n",
        "                         eval_metric=\"F1\",\n",
        "                         random_seed=DEFAULT_RANDOM_SEED,\n",
        "                         verbose = 0)\n",
        "    \n",
        "    train_dataset = Pool(data=train.iloc[train_fold][cols],\n",
        "                     label=train.iloc[train_fold]['label'],\n",
        "                     embedding_features=cols,\n",
        "                     )\n",
        "\n",
        "    eval_dataset = Pool(data=train.iloc[val_fold][cols],\n",
        "                    label=train.iloc[val_fold]['label'],\n",
        "                    embedding_features=cols,\n",
        "                    )\n",
        "    \n",
        "    fit_model = cat.fit(train_dataset,\n",
        "                        eval_set=eval_dataset,\n",
        "                        use_best_model=True,\n",
        "                        plot=False)\n",
        "\n",
        "    cat_emb_preds['label'] += fit_model.predict_proba(test[cols]).T[0] / N_SPLITS # probs of ai text\n",
        "\n",
        "    f1_people = f1_score(train.iloc[val_fold]['label'], fit_model.predict(train.iloc[val_fold][cols]), pos_label=0)\n",
        "    f1_ai = f1_score(train.iloc[val_fold]['label'], fit_model.predict(train.iloc[val_fold][cols]), pos_label=1)\n",
        "\n",
        "    print(f'fold: {i + 1} f1 people score: {f1_people}')\n",
        "    print(f'fold: {i + 1} f1 ai score: {f1_ai}')\n",
        "    print()\n",
        "    i += 1"
      ],
      "metadata": {
        "id": "YwJuHpSUR2ih",
        "outputId": "57412be1-a45e-433c-e2c3-77231d493b26",
        "colab": {
          "base_uri": "https://localhost:8080/"
        }
      },
      "execution_count": null,
      "outputs": [
        {
          "output_type": "stream",
          "name": "stdout",
          "text": [
            "fold: 1 f1 people score: 0.85\n",
            "fold: 1 f1 ai score: 0.8375634517766497\n",
            "\n",
            "fold: 2 f1 people score: 0.8858954041204437\n",
            "fold: 2 f1 ai score: 0.8797996661101836\n",
            "\n",
            "fold: 3 f1 people score: 0.8651877133105802\n",
            "fold: 3 f1 ai score: 0.8773291925465839\n",
            "\n",
            "fold: 4 f1 people score: 0.8663967611336032\n",
            "fold: 4 f1 ai score: 0.8653061224489796\n",
            "\n",
            "fold: 5 f1 people score: 0.8730407523510971\n",
            "fold: 5 f1 ai score: 0.8631756756756758\n",
            "\n"
          ]
        }
      ]
    },
    {
      "cell_type": "markdown",
      "source": [
        "# Train Neural Network"
      ],
      "metadata": {
        "id": "Yz4sYIFZZ6ae"
      }
    },
    {
      "cell_type": "code",
      "source": [
        "#@title NN\n",
        "\n",
        "class NN(nn.Module):\n",
        "    def __init__(self, **kwargs):\n",
        "        super().__init__()\n",
        "\n",
        "        self.first_linear = nn.Sequential(nn.Linear(in_features= kwargs[\"input_shape\"], out_features=256),\n",
        "                                          nn.ELU(),\n",
        "                                          nn.Dropout(0.1))\n",
        "        \n",
        "        self.second_linear = nn.Sequential(nn.Linear(in_features=256, out_features=2),)\n",
        "        \n",
        "\n",
        "    def forward(self, features):\n",
        "\n",
        "        x = self.first_linear(features)\n",
        "\n",
        "        x = self.second_linear(x)\n",
        "                \n",
        "        return F.sigmoid(x)"
      ],
      "metadata": {
        "cellView": "form",
        "id": "VBZhn_xSaDJ1"
      },
      "execution_count": null,
      "outputs": []
    },
    {
      "cell_type": "code",
      "source": [
        "class TrainDataset(torch.utils.data.Dataset):\n",
        "    def __init__(self, data: pd.DataFrame) -> None:\n",
        "        self.data = data\n",
        "        self.data.reset_index(drop=True, inplace=True)\n",
        "        \n",
        "    def __len__(self) -> int:\n",
        "        return len(self.data)\n",
        "\n",
        "    def __getitem__(self, idx: int):\n",
        "        row = self.data.loc[idx]\n",
        "        return row.embedding, row.label\n",
        "\n",
        "class TestDataset(torch.utils.data.Dataset):\n",
        "    def __init__(self, data: pd.DataFrame) -> None:\n",
        "        self.data = data\n",
        "        self.data.reset_index(drop=True, inplace=True)\n",
        "\n",
        "    def __len__(self) -> int:\n",
        "        return len(self.data)\n",
        "\n",
        "    def __getitem__(self, idx: int):\n",
        "        row = self.data.loc[idx]\n",
        "        return row.embedding\n",
        "\n",
        "def collate_to_train_batch(batch):\n",
        "    embeddings, labels = zip(*batch)\n",
        "\n",
        "    return embeddings, labels\n",
        "\n",
        "def collate_to_test_batch(batch):\n",
        "    embeddings = zip(*batch)\n",
        "\n",
        "    return embeddings"
      ],
      "metadata": {
        "id": "wBBXDqt3aHqX"
      },
      "execution_count": null,
      "outputs": []
    },
    {
      "cell_type": "code",
      "source": [
        "#@title def train\n",
        "\n",
        "def Train(model, optimizer, criterion, scheduler, epochs, train_dataloader, eval_dataloader, device):\n",
        "    tr_loss = []\n",
        "    ev_loss = []\n",
        "    f1_eval_people = []\n",
        "    f1_eval_ai = []\n",
        "\n",
        "    min_loss = np.inf\n",
        "\n",
        "    for epoch in range(epochs):\n",
        "        t_loss = 0\n",
        "        e_loss = 0\n",
        "\n",
        "        for embs, labels in train_dataloader:\n",
        "            \n",
        "            embs = torch.stack(embs).to(device)\n",
        "            \n",
        "            optimizer.zero_grad()\n",
        "\n",
        "            outputs = model(embs)\n",
        "\n",
        "            labels = torch.tensor(labels).float()\n",
        "            labels = torch.tensor([[label, 1] if label == 0 else [label, 0] for label in labels]).to(device)\n",
        "\n",
        "            train_loss = criterion(outputs, labels)\n",
        "\n",
        "            t_loss += train_loss\n",
        "\n",
        "            train_loss.backward()\n",
        "\n",
        "            optimizer.step()\n",
        "        tr_loss.append(t_loss.cpu().detach().numpy() / len(train_dataloader) if t_loss.cpu().detach().numpy() / len(train_dataloader) < 3000 else 3000)\n",
        "\n",
        "        f1_people = 0\n",
        "        f1_ai = 0\n",
        "\n",
        "        for embs, labels in eval_dataloader:\n",
        "            embs = torch.stack(embs).to(device)\n",
        "\n",
        "            with torch.no_grad():\n",
        "                outputs = model(embs)\n",
        "\n",
        "            labels = torch.tensor(labels).float()\n",
        "            labels = torch.tensor([[label, 1] if label == 0 else [label, 0] for label in labels]).to(device)\n",
        "\n",
        "            eval_loss = criterion(outputs, labels)\n",
        "\n",
        "            f1_people += f1_score(labels.argmax(-1).cpu().detach().numpy(), outputs.argmax(-1).cpu().detach().numpy(), pos_label=1) / len(eval_dataloader)\n",
        "            f1_ai += f1_score(labels.argmax(-1).cpu().detach().numpy(), outputs.argmax(-1).cpu().detach().numpy(), pos_label=0) / len(eval_dataloader)\n",
        "\n",
        "            e_loss += eval_loss\n",
        "        ev_loss.append(e_loss.cpu().detach().numpy() / len(eval_dataloader))\n",
        "        f1_eval_people.append(f1_people)\n",
        "        f1_eval_ai.append(f1_ai) \n",
        "\n",
        "        scheduler.step()\n",
        "\n",
        "        if ev_loss[-1] < min_loss:\n",
        "            model_for_save = model\n",
        "            min_loss = ev_loss[-1]\n",
        "\n",
        "        plot = pd.DataFrame({\"people\": f1_eval_people,\n",
        "                            \"ai\" : f1_eval_ai})\n",
        "        \n",
        "\n",
        "        sns.lineplot(data=plot).set(xlabel='epoch', ylabel='F1');\n",
        "        clear_output()\n",
        "        print(f'train  loss: {np.array(tr_loss[-5:]).mean()}')\n",
        "        print(f'eval   loss: {np.array(ev_loss[-5:]).mean()}')\n",
        "        print(f'f1     ai: {f1_ai}')\n",
        "        print(f'f1     people: {f1_people}')\n",
        "        plt.show()\n",
        "\n",
        "    return model_for_save"
      ],
      "metadata": {
        "cellView": "form",
        "id": "VNJODMyNaIAI"
      },
      "execution_count": null,
      "outputs": []
    },
    {
      "cell_type": "code",
      "source": [
        "train_df, val_df, _, _ = train_test_split(train, train['label'], random_state=DEFAULT_RANDOM_SEED, test_size=0.2)"
      ],
      "metadata": {
        "id": "uvuv_-2RaIV7"
      },
      "execution_count": null,
      "outputs": []
    },
    {
      "cell_type": "code",
      "source": [
        "train_dataloader = torch.utils.data.DataLoader(\n",
        "    TrainDataset(train_df), batch_size=64, num_workers=16, collate_fn=collate_to_train_batch, pin_memory=False\n",
        ")\n",
        "eval_dataloader = torch.utils.data.DataLoader(\n",
        "    TrainDataset(val_df), batch_size=64, num_workers=16, collate_fn=collate_to_train_batch, pin_memory=False\n",
        ")\n",
        "test_dataloader = torch.utils.data.DataLoader(\n",
        "    TestDataset(test), batch_size=64, num_workers=16, collate_fn=collate_to_test_batch, pin_memory=False\n",
        ")"
      ],
      "metadata": {
        "id": "FN2cUAvXaSTG",
        "outputId": "967e3960-7457-42f8-bb1c-b7a828d83a5b",
        "colab": {
          "base_uri": "https://localhost:8080/"
        }
      },
      "execution_count": null,
      "outputs": [
        {
          "output_type": "stream",
          "name": "stderr",
          "text": [
            "/usr/local/lib/python3.10/dist-packages/torch/utils/data/dataloader.py:561: UserWarning: This DataLoader will create 16 worker processes in total. Our suggested max number of worker in current system is 2, which is smaller than what this DataLoader is going to create. Please be aware that excessive worker creation might get DataLoader running slow or even freeze, lower the worker number to avoid potential slowness/freeze if necessary.\n",
            "  warnings.warn(_create_warning_msg(\n"
          ]
        }
      ]
    },
    {
      "cell_type": "code",
      "source": [
        "INPUT_SIZE = 768\n",
        "\n",
        "model_NN = NN(input_shape=INPUT_SIZE).to(device)\n",
        "\n",
        "optimizer = AdamW(model_NN.parameters(), lr=1e-3)\n",
        "\n",
        "criterion = nn.BCELoss()\n",
        "\n",
        "scheduler = StepLR(optimizer, step_size=15, gamma=0.1)\n",
        "\n",
        "epochs = 40"
      ],
      "metadata": {
        "id": "mL_R21kvaUCj"
      },
      "execution_count": null,
      "outputs": []
    },
    {
      "cell_type": "code",
      "source": [
        "NN_model = Train(model_NN, optimizer, criterion, scheduler, epochs, train_dataloader, eval_dataloader, device)"
      ],
      "metadata": {
        "id": "tjqHjcHdaVUU",
        "outputId": "b46a78bf-978e-414e-bb47-2c5481c2d6e6",
        "colab": {
          "base_uri": "https://localhost:8080/",
          "height": 544
        }
      },
      "execution_count": null,
      "outputs": [
        {
          "output_type": "stream",
          "name": "stdout",
          "text": [
            "train  loss: 0.2088092903038124\n",
            "eval   loss: 0.3238252067565918\n",
            "f1     ai: 0.8566835667168986\n",
            "f1     people: 0.8636493388470471\n"
          ]
        },
        {
          "output_type": "display_data",
          "data": {
            "text/plain": [
              "<Figure size 1500x500 with 1 Axes>"
            ],
            "image/png": "[encoded data removed]"
          },
          "metadata": {}
        }
      ]
    },
    {
      "cell_type": "markdown",
      "metadata": {
        "id": "v2OPSWwRebDB"
      },
      "source": [
        "# Inference"
      ]
    },
    {
      "cell_type": "markdown",
      "source": [
        "Мы не успели сделать стеккинг и использовать предсказания катбуста и нейронки. Поэтому инференс мы провели только на предсказаниях затюненого берта."
      ],
      "metadata": {
        "id": "xGr7o_nSa9o3"
      }
    },
    {
      "cell_type": "code",
      "execution_count": null,
      "metadata": {
        "id": "0iEbweI7ed2v",
        "colab": {
          "base_uri": "https://localhost:8080/",
          "height": 224
        },
        "outputId": "5699b0cd-4615-43c3-bff3-75ee4304dcd9"
      },
      "outputs": [
        {
          "output_type": "stream",
          "name": "stdout",
          "text": [
            "(2482, 2)\n"
          ]
        },
        {
          "output_type": "execute_result",
          "data": {
            "text/plain": [
              "                                             context  \\\n",
              "0  **Вы:** Спасибо братан,тебя тоже!!!\\n\\n**Собес...   \n",
              "1  **Вы:** Кем работаешь??\\nЯ работаю косметолого...   \n",
              "2  **Вы:** Что читали из последнего?\\n\\n**Собесед...   \n",
              "3  **Вы:** Я мёдсистра, люблю путешествовать увле...   \n",
              "4  **Вы:** А ты чем-то увлекаешься кроме спорта.\\...   \n",
              "\n",
              "                                              answer  \n",
              "0  Краснодар - красивый город. Что тебе там больш...  \n",
              "1  Но не знаю, как правильно ухаживать за ними. Я...  \n",
              "2                                          Это жизнь  \n",
              "3     Живу в городе, но мечтаюо природе и своем доме  \n",
              "4                           Начать никогда не поздно  "
            ],
            "text/html": [
              "\n",
              "  <div id=\"df-272149f1-16de-4ba0-8698-4e4b1339fd51\">\n",
              "    <div class=\"colab-df-container\">\n",
              "      <div>\n",
              "<style scoped>\n",
              "    .dataframe tbody tr th:only-of-type {\n",
              "        vertical-align: middle;\n",
              "    }\n",
              "\n",
              "    .dataframe tbody tr th {\n",
              "        vertical-align: top;\n",
              "    }\n",
              "\n",
              "    .dataframe thead th {\n",
              "        text-align: right;\n",
              "    }\n",
              "</style>\n",
              "<table border=\"1\" class=\"dataframe\">\n",
              "  <thead>\n",
              "    <tr style=\"text-align: right;\">\n",
              "      <th></th>\n",
              "      <th>context</th>\n",
              "      <th>answer</th>\n",
              "    </tr>\n",
              "  </thead>\n",
              "  <tbody>\n",
              "    <tr>\n",
              "      <th>0</th>\n",
              "      <td>**Вы:** Спасибо братан,тебя тоже!!!\\n\\n**Собес...</td>\n",
              "      <td>Краснодар - красивый город. Что тебе там больш...</td>\n",
              "    </tr>\n",
              "    <tr>\n",
              "      <th>1</th>\n",
              "      <td>**Вы:** Кем работаешь??\\nЯ работаю косметолого...</td>\n",
              "      <td>Но не знаю, как правильно ухаживать за ними. Я...</td>\n",
              "    </tr>\n",
              "    <tr>\n",
              "      <th>2</th>\n",
              "      <td>**Вы:** Что читали из последнего?\\n\\n**Собесед...</td>\n",
              "      <td>Это жизнь</td>\n",
              "    </tr>\n",
              "    <tr>\n",
              "      <th>3</th>\n",
              "      <td>**Вы:** Я мёдсистра, люблю путешествовать увле...</td>\n",
              "      <td>Живу в городе, но мечтаюо природе и своем доме</td>\n",
              "    </tr>\n",
              "    <tr>\n",
              "      <th>4</th>\n",
              "      <td>**Вы:** А ты чем-то увлекаешься кроме спорта.\\...</td>\n",
              "      <td>Начать никогда не поздно</td>\n",
              "    </tr>\n",
              "  </tbody>\n",
              "</table>\n",
              "</div>\n",
              "      <button class=\"colab-df-convert\" onclick=\"convertToInteractive('df-272149f1-16de-4ba0-8698-4e4b1339fd51')\"\n",
              "              title=\"Convert this dataframe to an interactive table.\"\n",
              "              style=\"display:none;\">\n",
              "        \n",
              "  <svg xmlns=\"http://www.w3.org/2000/svg\" height=\"24px\"viewBox=\"0 0 24 24\"\n",
              "       width=\"24px\">\n",
              "    <path d=\"M0 0h24v24H0V0z\" fill=\"none\"/>\n",
              "    <path d=\"M18.56 5.44l.94 2.06.94-2.06 2.06-.94-2.06-.94-.94-2.06-.94 2.06-2.06.94zm-11 1L8.5 8.5l.94-2.06 2.06-.94-2.06-.94L8.5 2.5l-.94 2.06-2.06.94zm10 10l.94 2.06.94-2.06 2.06-.94-2.06-.94-.94-2.06-.94 2.06-2.06.94z\"/><path d=\"M17.41 7.96l-1.37-1.37c-.4-.4-.92-.59-1.43-.59-.52 0-1.04.2-1.43.59L10.3 9.45l-7.72 7.72c-.78.78-.78 2.05 0 2.83L4 21.41c.39.39.9.59 1.41.59.51 0 1.02-.2 1.41-.59l7.78-7.78 2.81-2.81c.8-.78.8-2.07 0-2.86zM5.41 20L4 18.59l7.72-7.72 1.47 1.35L5.41 20z\"/>\n",
              "  </svg>\n",
              "      </button>\n",
              "      \n",
              "  <style>\n",
              "    .colab-df-container {\n",
              "      display:flex;\n",
              "      flex-wrap:wrap;\n",
              "      gap: 12px;\n",
              "    }\n",
              "\n",
              "    .colab-df-convert {\n",
              "      background-color: #E8F0FE;\n",
              "      border: none;\n",
              "      border-radius: 50%;\n",
              "      cursor: pointer;\n",
              "      display: none;\n",
              "      fill: #1967D2;\n",
              "      height: 32px;\n",
              "      padding: 0 0 0 0;\n",
              "      width: 32px;\n",
              "    }\n",
              "\n",
              "    .colab-df-convert:hover {\n",
              "      background-color: #E2EBFA;\n",
              "      box-shadow: 0px 1px 2px rgba(60, 64, 67, 0.3), 0px 1px 3px 1px rgba(60, 64, 67, 0.15);\n",
              "      fill: #174EA6;\n",
              "    }\n",
              "\n",
              "    [theme=dark] .colab-df-convert {\n",
              "      background-color: #3B4455;\n",
              "      fill: #D2E3FC;\n",
              "    }\n",
              "\n",
              "    [theme=dark] .colab-df-convert:hover {\n",
              "      background-color: #434B5C;\n",
              "      box-shadow: 0px 1px 3px 1px rgba(0, 0, 0, 0.15);\n",
              "      filter: drop-shadow(0px 1px 2px rgba(0, 0, 0, 0.3));\n",
              "      fill: #FFFFFF;\n",
              "    }\n",
              "  </style>\n",
              "\n",
              "      <script>\n",
              "        const buttonEl =\n",
              "          document.querySelector('#df-272149f1-16de-4ba0-8698-4e4b1339fd51 button.colab-df-convert');\n",
              "        buttonEl.style.display =\n",
              "          google.colab.kernel.accessAllowed ? 'block' : 'none';\n",
              "\n",
              "        async function convertToInteractive(key) {\n",
              "          const element = document.querySelector('#df-272149f1-16de-4ba0-8698-4e4b1339fd51');\n",
              "          const dataTable =\n",
              "            await google.colab.kernel.invokeFunction('convertToInteractive',\n",
              "                                                     [key], {});\n",
              "          if (!dataTable) return;\n",
              "\n",
              "          const docLinkHtml = 'Like what you see? Visit the ' +\n",
              "            '<a target=\"_blank\" href=https://colab.research.google.com/notebooks/data_table.ipynb>data table notebook</a>'\n",
              "            + ' to learn more about interactive tables.';\n",
              "          element.innerHTML = '';\n",
              "          dataTable['output_type'] = 'display_data';\n",
              "          await google.colab.output.renderOutput(dataTable, element);\n",
              "          const docLink = document.createElement('div');\n",
              "          docLink.innerHTML = docLinkHtml;\n",
              "          element.appendChild(docLink);\n",
              "        }\n",
              "      </script>\n",
              "    </div>\n",
              "  </div>\n",
              "  "
            ]
          },
          "metadata": {},
          "execution_count": 52
        }
      ],
      "source": [
        "private_test = pd.read_csv('/content/private_test.csv')\n",
        "print(private_test.shape)\n",
        "private_test.head()"
      ]
    },
    {
      "cell_type": "code",
      "execution_count": null,
      "metadata": {
        "id": "VeaCRMEFfOvb",
        "colab": {
          "base_uri": "https://localhost:8080/"
        },
        "outputId": "2a4640a2-abf1-49cb-a920-f7bcf01dab8b"
      },
      "outputs": [
        {
          "output_type": "stream",
          "name": "stderr",
          "text": [
            "Asking to truncate to max_length but no maximum length is provided and the model has no predefined maximum length. Default to no truncation.\n"
          ]
        }
      ],
      "source": [
        "encodings = deep_pavlov_tokenizer(private_test['answer'].tolist(), truncation=True, padding=True)"
      ]
    },
    {
      "cell_type": "code",
      "execution_count": null,
      "metadata": {
        "id": "cetm3qAujJtL"
      },
      "outputs": [],
      "source": [
        "class TestDataset(torch.utils.data.Dataset):\n",
        "    def __init__(self, encodings):\n",
        "        self.encodings = encodings\n",
        "\n",
        "\n",
        "    def __getitem__(self, idx):\n",
        "        item = {k: torch.tensor(v[idx]) for k, v in self.encodings.items()}\n",
        "        return item\n",
        "\n",
        "    def __len__(self):\n",
        "        return len(self.encodings)\n",
        "\n",
        "test_dataset = GroupsDataset(encodings, [0 for i in range(len(private_test))])"
      ]
    },
    {
      "cell_type": "code",
      "execution_count": null,
      "metadata": {
        "colab": {
          "base_uri": "https://localhost:8080/",
          "height": 17
        },
        "id": "jJy4UvJ7gUa8",
        "outputId": "7aea8ec6-e729-46e1-a1cb-5f638fca9f56"
      },
      "outputs": [
        {
          "output_type": "display_data",
          "data": {
            "text/plain": [
              "<IPython.core.display.HTML object>"
            ],
            "text/html": []
          },
          "metadata": {}
        }
      ],
      "source": [
        "test_pred = trainer.predict(test_dataset)"
      ]
    },
    {
      "cell_type": "code",
      "source": [
        "labels = test_pred[0].argmax(-1)"
      ],
      "metadata": {
        "id": "hQkb72DDPpgx"
      },
      "execution_count": null,
      "outputs": []
    },
    {
      "cell_type": "code",
      "execution_count": null,
      "metadata": {
        "id": "cNTAvPZIgawM"
      },
      "outputs": [],
      "source": [
        "answer = pd.DataFrame({\n",
        "                      'label': [label for label in labels]})\n",
        "answer['label'] = answer['label'].apply(lambda x: 'people' if x == 0 else 'ai')"
      ]
    },
    {
      "cell_type": "code",
      "execution_count": null,
      "metadata": {
        "colab": {
          "base_uri": "https://localhost:8080/"
        },
        "id": "k8yxlhDdgxZ6",
        "outputId": "240e2db5-b9e7-447e-81ee-f3e5ea07ba67"
      },
      "outputs": [
        {
          "output_type": "execute_result",
          "data": {
            "text/plain": [
              "people    1260\n",
              "ai        1222\n",
              "Name: label, dtype: int64"
            ]
          },
          "metadata": {},
          "execution_count": 70
        }
      ],
      "source": [
        "answer['label'].value_counts()"
      ]
    },
    {
      "cell_type": "code",
      "execution_count": null,
      "metadata": {
        "id": "w6JAZRPToD3G"
      },
      "outputs": [],
      "source": [
        "answer.to_csv('rucode_submit.csv')"
      ]
    }
  ],
  "metadata": {
    "accelerator": "GPU",
    "colab": {
      "provenance": [],
      "gpuType": "T4"
    },
    "gpuClass": "standard",
    "kernelspec": {
      "display_name": "Python 3",
      "name": "python3"
    },
    "language_info": {
      "name": "python"
    }
  },
  "nbformat": 4,
  "nbformat_minor": 0
}